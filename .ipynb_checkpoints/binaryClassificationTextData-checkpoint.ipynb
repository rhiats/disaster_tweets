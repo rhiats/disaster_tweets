{
 "cells": [
  {
   "cell_type": "markdown",
   "metadata": {},
   "source": [
    "# Predict whether or not a tweet is about a real disaster "
   ]
  },
  {
   "cell_type": "code",
   "execution_count": 1,
   "metadata": {},
   "outputs": [],
   "source": [
    "import pandas as pd\n",
    "import seaborn as sns\n",
    "import matplotlib.pyplot as plt\n",
    "from sklearn.model_selection import train_test_split\n",
    "from nltk.stem import PorterStemmer\n",
    "from nltk.tokenize import word_tokenize\n",
    "from nltk.corpus import stopwords"
   ]
  },
  {
   "cell_type": "markdown",
   "metadata": {},
   "source": [
    "# Data Overview\n",
    "\n",
    "There are 7,613 training data points and 3,263 test datapoints"
   ]
  },
  {
   "cell_type": "code",
   "execution_count": 2,
   "metadata": {},
   "outputs": [],
   "source": [
    "def df_shape(filename):\n",
    "    \"\"\"\n",
    "        Return the shape (row,columns) of the dataset in the .csv file\n",
    "        \n",
    "        @P: filename (string) of a csv data set file\n",
    "        @R: tuple of dataframe size\n",
    "        \n",
    "    \"\"\"\n",
    "    df=pd.read_csv(filename)\n",
    "    return df.shape\n",
    "\n",
    "def hist_rel_freq(filename,columnName,mx_val):\n",
    "    \"\"\"\n",
    "        Save a relative frequency of a specific column\n",
    "        \n",
    "        @P: filename: (csv) the training data file\n",
    "            columnName: (dtring) the name of the column of interest\n",
    "            mx_val: (int) the max range for the x-axis\n",
    "            \n",
    "    \"\"\"\n",
    "    df=pd.read_csv(filename)\n",
    "    fig, ax = plt.subplots()\n",
    "    g=sns.histplot(data=df, x=columnName, stat=\"percent\", discrete=True, ax=ax)\n",
    "    ax.set_xlim(-1,mx_val+1)\n",
    "    ax.set_xticks(range(0,mx_val+1))\n",
    "    plt.savefig('output/dist_{}.png'.format(columnName))\n",
    "    print(\"\\n Column: {} Relative Frequency \\n\".format(columnName),df[columnName].value_counts(normalize=True))"
   ]
  },
  {
   "cell_type": "code",
   "execution_count": 3,
   "metadata": {},
   "outputs": [
    {
     "name": "stdout",
     "output_type": "stream",
     "text": [
      "The shape of the training data is (7613, 5) \n",
      "The shape of the test data is (3263, 4) \n",
      "\n",
      " Column: target Relative Frequency \n",
      " 0    0.57034\n",
      "1    0.42966\n",
      "Name: target, dtype: float64\n"
     ]
    },
    {
     "data": {
      "image/png": "[encoded data removed]",
      "text/plain": [
       "<Figure size 432x288 with 1 Axes>"
      ]
     },
     "metadata": {
      "needs_background": "light"
     },
     "output_type": "display_data"
    }
   ],
   "source": [
    "print(\"The shape of the training data is {} \".format(df_shape(\"input/train.csv\")))\n",
    "print(\"The shape of the test data is {} \".format(df_shape(\"input/test.csv\")))\n",
    "hist_rel_freq(\"input/train.csv\",\"target\",1)"
   ]
  },
  {
   "cell_type": "markdown",
   "metadata": {},
   "source": [
    "# Split Training Data"
   ]
  },
  {
   "cell_type": "code",
   "execution_count": 4,
   "metadata": {},
   "outputs": [],
   "source": [
    "df=pd.read_csv(\"input/train.csv\")\n",
    "\n",
    "X=df.drop('target', axis=1, inplace=False)\n",
    "y=df['target']\n",
    "X_train, X_validate, y_train, y_validate = train_test_split(df, y, test_size=0.3, random_state=42)"
   ]
  },
  {
   "cell_type": "markdown",
   "metadata": {},
   "source": [
    "# Pre-process\n",
    "\n",
    "• Convert all the words to lowercase\n",
    "\n",
    "• Lemmatize all thewords (i.e., convert every word to its root so that all of “running,” “run,” and “runs” are converted to “run” and and all of “good,” “well,” “better,” and “best” are converted to “good”; this is easily done using nltk.stem) - (CHOSE NOT TO LEMMATIZE, TO PRESERVE MEANING OF TEXT - CONSIDER WRITING MY OWN FUNCTION)\n",
    "\n",
    "• Strip punctuation\n",
    "\n",
    "• Strip the stop words, e.g., “the”, “and”, “or” (ADDITIONAL STOP WORDS?)\n",
    "\n",
    "• Strip @ and urls (It’s Twitter.)\n",
    "\n",
    "• Something else? Tell us about it (SPELL CHECK)"
   ]
  },
  {
   "cell_type": "code",
   "execution_count": 5,
   "metadata": {},
   "outputs": [],
   "source": [
    "def make_lower(col_name,dataF):\n",
    "    \"\"\"\n",
    "        Convert all words to lowercase.\n",
    "        \n",
    "        @P: \n",
    "        col (string): Name of column in a dataframe that contains text data\n",
    "        dataF (dataframe): Dataframe with the text data that needs modifying\n",
    "        \n",
    "    \"\"\"\n",
    "    dataF[col_name]=dataF[col_name].str.lower()\n",
    "    \n",
    "def remove_punctuation(col_name,dataF):\n",
    "    \"\"\"\n",
    "        Remove the punctuation in a column with text data.\n",
    "        \n",
    "        @P: \n",
    "        col (string): Name of column in a dataframe that contains text data\n",
    "        dataF (dataframe): Dataframe with the text data that needs modifying\n",
    "        \n",
    "    \"\"\"\n",
    "    \n",
    "    #Regex to identify anything that is not a word or string\n",
    "    dataF[col_name]=dataF[col_name].str.replace(r'[^\\w\\s]+','') \n",
    "\n",
    "def remove_tag(txt_col):\n",
    "    \"\"\"\n",
    "        Remove the @'username' in a column with text data.\n",
    "        \n",
    "        @P: \n",
    "        txt_col (series): Dataframe column that contains text data.\n",
    "        \n",
    "        @R:\n",
    "        s (string): String without @'username'.\n",
    "        \n",
    "    \"\"\"\n",
    "    words = word_tokenize(txt_col)\n",
    "    \n",
    "    j=-1\n",
    "    w_arr=[]\n",
    "    for i in range(len(words)):\n",
    "        if words[i]=='@': j=i+1\n",
    "        \n",
    "        if words[i]!='@' and i!=j: w_arr.append(words[i])\n",
    "    \n",
    "    s=\" \".join(w_arr)\n",
    "    return s\n",
    "\n",
    "def remove_url(txt_col):\n",
    "    \"\"\"\n",
    "        Remove the url in a column with text data.\n",
    "        \n",
    "        @P: \n",
    "        txt_col (series): Dataframe column that contains text data.\n",
    "        \n",
    "        @R:\n",
    "        s (string): String without url.\n",
    "        \n",
    "    \"\"\"\n",
    "    words = word_tokenize(txt_col)\n",
    "    w_arr=[ w for w in words if not w.startswith('http')]\n",
    "    s=\" \".join(w_arr)\n",
    "    return s\n",
    "\n",
    "def lematize_txt(txt_col):\n",
    "    \"\"\"\n",
    "        Stem words.\n",
    "        \n",
    "        @P: \n",
    "        txt_col (series): Dataframe column that contains text data.\n",
    "        \n",
    "        @R:\n",
    "        s (string): String of lematized text\n",
    "        \n",
    "    \"\"\"\n",
    "    \n",
    "    ps = PorterStemmer()\n",
    "    words = word_tokenize(txt_col)\n",
    "    w_arr=[ps.stem(w) for w in words]\n",
    "    s=\" \".join(w_arr)\n",
    "    return s\n",
    "\n",
    "def rmv_stop_wrds(txt_col):\n",
    "    \"\"\"\n",
    "        Remove stop words.\n",
    "        \n",
    "        @P: \n",
    "        txt_col (series): Dataframe column that contains text data.\n",
    "        \n",
    "        @R:\n",
    "        s (string): String of text without stop words.\n",
    "        \n",
    "    \"\"\"\n",
    "    \n",
    "    stop_words = set(stopwords.words('english'))\n",
    "    words = word_tokenize(txt_col)\n",
    "    w_arr=[w for w in words if not w.lower() in stop_words]\n",
    "    s=\" \".join(w_arr)\n",
    "    return s"
   ]
  },
  {
   "cell_type": "code",
   "execution_count": 6,
   "metadata": {},
   "outputs": [],
   "source": [
    "make_lower(\"text\",df)\n",
    "df['text'] = df.apply(lambda x: remove_tag(x['text']),axis=1)\n",
    "remove_punctuation(\"text\",df)\n",
    "df['text'] = df.apply(lambda x: rmv_stop_wrds(x['text']),axis=1)\n",
    "df['text'] = df.apply(lambda x: remove_url(x['text']),axis=1)\n",
    "\n",
    "df.to_csv(\"output/ck_pre_proc.csv\")"
   ]
  },
  {
   "cell_type": "code",
   "execution_count": null,
   "metadata": {},
   "outputs": [],
   "source": []
  }
 ],
 "metadata": {
  "kernelspec": {
   "display_name": "Python 3",
   "language": "python",
   "name": "python3"
  },
  "language_info": {
   "codemirror_mode": {
    "name": "ipython",
    "version": 3
   },
   "file_extension": ".py",
   "mimetype": "text/x-python",
   "name": "python",
   "nbconvert_exporter": "python",
   "pygments_lexer": "ipython3",
   "version": "3.6.4"
  }
 },
 "nbformat": 4,
 "nbformat_minor": 4
}
